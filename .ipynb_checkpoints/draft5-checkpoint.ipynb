{
 "cells": [
  {
   "cell_type": "code",
   "execution_count": 13,
   "id": "057e0811",
   "metadata": {},
   "outputs": [
    {
     "name": "stderr",
     "output_type": "stream",
     "text": [
      "Query complete after 0.00s: 100%|██████████| 2/2 [00:00<00:00, 595.65query/s]                         \n",
      "Downloading: 100%|██████████| 871994/871994 [00:02<00:00, 375906.04rows/s]\n"
     ]
    }
   ],
   "source": [
    "%%bigquery trips_weekday\n",
    "\n",
    "SELECT *,\n",
    "        EXTRACT(HOUR FROM start_date) AS start_hour\n",
    "    FROM `bigquery-public-data.san_francisco.bikeshare_trips`\n",
    "    WHERE EXTRACT(DAYOFWEEK FROM start_date) != 7\n",
    "        and EXTRACT(DAYOFWEEK FROM start_date) != 1\n",
    "    ORDER BY start_date ASC"
   ]
  },
  {
   "cell_type": "code",
   "execution_count": 57,
   "id": "676ddcb4",
   "metadata": {},
   "outputs": [],
   "source": [
    "import matplotlib\n",
    "from matplotlib import pyplot\n"
   ]
  },
  {
   "cell_type": "code",
   "execution_count": 47,
   "id": "67fc4f91",
   "metadata": {},
   "outputs": [
    {
     "name": "stderr",
     "output_type": "stream",
     "text": [
      "Query complete after 0.00s: 100%|██████████| 2/2 [00:00<00:00, 896.03query/s]                         \n",
      "Downloading: 100%|██████████| 846839/846839 [00:02<00:00, 422549.98rows/s]\n"
     ]
    }
   ],
   "source": [
    "%%bigquery trips_subscriber\n",
    "\n",
    "SELECT *,\n",
    "        EXTRACT(DAYOFWEEK FROM start_date) AS dow_int,\n",
    "       CASE EXTRACT(DAYOFWEEK FROM start_date)\n",
    "           WHEN 1 THEN \"Sunday\"\n",
    "           WHEN 2 THEN \"Monday\"\n",
    "           WHEN 3 THEN \"Tuesday\"\n",
    "           WHEN 4 THEN \"Wednesday\"\n",
    "           WHEN 5 THEN \"Thursday\"\n",
    "           WHEN 6 THEN \"Friday\"\n",
    "           WHEN 7 THEN \"Saturday\"\n",
    "           END AS dow_str,\n",
    "       CASE \n",
    "           WHEN EXTRACT(DAYOFWEEK FROM start_date) IN (1, 7) THEN \"Weekend\"\n",
    "           ELSE \"Weekday\"\n",
    "           END AS dow_weekday,\n",
    "       EXTRACT(HOUR FROM start_date) AS start_hour\n",
    "    FROM `bigquery-public-data.san_francisco.bikeshare_trips`\n",
    "    WHERE subscriber_type ='Subscriber' \n",
    "    ORDER BY start_date ASC"
   ]
  },
  {
   "cell_type": "code",
   "execution_count": 48,
   "id": "6b6faca6",
   "metadata": {},
   "outputs": [
    {
     "name": "stderr",
     "output_type": "stream",
     "text": [
      "Query complete after 0.00s: 100%|██████████| 2/2 [00:00<00:00, 464.15query/s]                         \n",
      "Downloading: 100%|██████████| 136809/136809 [00:03<00:00, 42766.80rows/s]\n"
     ]
    }
   ],
   "source": [
    "%%bigquery trips_customer\n",
    "\n",
    "SELECT *,\n",
    "        EXTRACT(DAYOFWEEK FROM start_date) AS dow_int,\n",
    "       CASE EXTRACT(DAYOFWEEK FROM start_date)\n",
    "           WHEN 1 THEN \"Sunday\"\n",
    "           WHEN 2 THEN \"Monday\"\n",
    "           WHEN 3 THEN \"Tuesday\"\n",
    "           WHEN 4 THEN \"Wednesday\"\n",
    "           WHEN 5 THEN \"Thursday\"\n",
    "           WHEN 6 THEN \"Friday\"\n",
    "           WHEN 7 THEN \"Saturday\"\n",
    "           END AS dow_str,\n",
    "       CASE \n",
    "           WHEN EXTRACT(DAYOFWEEK FROM start_date) IN (1, 7) THEN \"Weekend\"\n",
    "           ELSE \"Weekday\"\n",
    "           END AS dow_weekday,\n",
    "       EXTRACT(HOUR FROM start_date) AS start_hour\n",
    "    FROM `bigquery-public-data.san_francisco.bikeshare_trips`\n",
    "    WHERE subscriber_type ='Customer' \n",
    "    ORDER BY start_date ASC"
   ]
  },
  {
   "cell_type": "code",
   "execution_count": 18,
   "id": "3dcd7b0c",
   "metadata": {},
   "outputs": [],
   "source": [
    "import pandas as pd"
   ]
  },
  {
   "cell_type": "code",
   "execution_count": 3,
   "id": "0f4a3f0a",
   "metadata": {},
   "outputs": [
    {
     "name": "stderr",
     "output_type": "stream",
     "text": [
      "Query complete after 0.00s: 100%|██████████| 1/1 [00:00<00:00, 325.22query/s] \n",
      "Downloading: 100%|██████████| 290784/290784 [00:01<00:00, 160784.10rows/s]\n"
     ]
    }
   ],
   "source": [
    "%%bigquery trips_weekday_morning\n",
    "\n",
    "SELECT *\n",
    "    FROM `bigquery-public-data.san_francisco.bikeshare_trips`\n",
    "    WHERE CAST(start_date as time) >= '6:30:00' \n",
    "        and CAST(end_date as time) <= '10:00:00'\n",
    "        and EXTRACT(DAYOFWEEK FROM start_date) != 7\n",
    "        and EXTRACT(DAYOFWEEK FROM start_date) != 1\n",
    "    ORDER BY start_date ASC"
   ]
  },
  {
   "cell_type": "code",
   "execution_count": 22,
   "id": "5e18bc5f",
   "metadata": {},
   "outputs": [
    {
     "name": "stderr",
     "output_type": "stream",
     "text": [
      "Query complete after 0.00s: 100%|██████████| 2/2 [00:00<00:00, 723.22query/s]                         \n",
      "Downloading: 100%|██████████| 305121/305121 [00:01<00:00, 198844.08rows/s]\n"
     ]
    }
   ],
   "source": [
    "%%bigquery trips_weekday_afternoon\n",
    "\n",
    "SELECT *\n",
    "    FROM `bigquery-public-data.san_francisco.bikeshare_trips`\n",
    "    WHERE CAST(start_date as time) >= '15:00:00' \n",
    "    and CAST(end_date as time) <= '19:00:00'\n",
    "        and EXTRACT(DAYOFWEEK FROM start_date) != 7\n",
    "        and EXTRACT(DAYOFWEEK FROM start_date) != 1\n",
    "    ORDER BY start_date ASC"
   ]
  },
  {
   "cell_type": "code",
   "execution_count": 5,
   "id": "7aa601c6",
   "metadata": {},
   "outputs": [],
   "source": [
    "from pandas.tseries.holiday import USFederalHolidayCalendar\n",
    "cal = USFederalHolidayCalendar()\n",
    "holidays = cal.holidays(start='2013-01-01', end='2016-12-31')"
   ]
  },
  {
   "cell_type": "code",
   "execution_count": 23,
   "id": "728de4cf",
   "metadata": {},
   "outputs": [
    {
     "name": "stderr",
     "output_type": "stream",
     "text": [
      "/opt/conda/lib/python3.7/site-packages/pandas/core/algorithms.py:523: FutureWarning: Comparison of Timestamp with datetime.date is deprecated in order to match the standard library behavior.  In a future version these will be considered non-comparable.Use 'ts == pd.Timestamp(date)' or 'ts.date() == date' instead.\n",
      "  return f(comps, values)\n"
     ]
    }
   ],
   "source": [
    "non_holiday_weekdays = trips_weekday[trips_weekday['start_date'].dt.date.isin(holidays) == False]\n",
    "non_holiday_weekday_afternoon = trips_weekday_afternoon[trips_weekday_afternoon['start_date'].dt.date.isin(holidays) == False]\n",
    "non_holiday_weekday_morning = trips_weekday_morning[trips_weekday_morning['start_date'].dt.date.isin(holidays) == False]\n"
   ]
  },
  {
   "cell_type": "code",
   "execution_count": 46,
   "id": "57c8a933",
   "metadata": {},
   "outputs": [
    {
     "data": {
      "image/png": "[encoded data removed]",
      "text/plain": [
       "<Figure size 720x288 with 1 Axes>"
      ]
     },
     "metadata": {
      "needs_background": "light"
     },
     "output_type": "display_data"
    }
   ],
   "source": [
    "trips_by_hr = pd.DataFrame(non_holiday_weekdays.groupby(['start_hour']).size())\n",
    "trips_by_hr = trips_by_hr.rename(columns = {0:'Number_of_Trips'})\n",
    "line_plot = trips_by_hr.plot.line(y = 'Number_of_Trips', figsize = (10,4), grid = True, title='Total Trips on Non-Holiday Weekdays' , legend = False, xticks = [0,1,2,3,4,5,6,7,8,9,10,11,12,13,14,15,16,17,18,19,20,21,22,23])\n"
   ]
  },
  {
   "cell_type": "markdown",
   "id": "1d8a3841",
   "metadata": {},
   "source": [
    "**Based on this analysis we know to define \"commute times\" as 6:30-10:00 and 15:00-19:00 on non-holiday weekdays, since there were more than 4,000 trips an hour during these intervals.**"
   ]
  },
  {
   "cell_type": "code",
   "execution_count": 25,
   "id": "fb6569a0",
   "metadata": {},
   "outputs": [
    {
     "name": "stderr",
     "output_type": "stream",
     "text": [
      "/opt/conda/lib/python3.7/site-packages/ipykernel_launcher.py:1: SettingWithCopyWarning: \n",
      "A value is trying to be set on a copy of a slice from a DataFrame.\n",
      "Try using .loc[row_indexer,col_indexer] = value instead\n",
      "\n",
      "See the caveats in the documentation: https://pandas.pydata.org/pandas-docs/stable/user_guide/indexing.html#returning-a-view-versus-a-copy\n",
      "  \"\"\"Entry point for launching an IPython kernel.\n",
      "/opt/conda/lib/python3.7/site-packages/ipykernel_launcher.py:2: SettingWithCopyWarning: \n",
      "A value is trying to be set on a copy of a slice from a DataFrame.\n",
      "Try using .loc[row_indexer,col_indexer] = value instead\n",
      "\n",
      "See the caveats in the documentation: https://pandas.pydata.org/pandas-docs/stable/user_guide/indexing.html#returning-a-view-versus-a-copy\n",
      "  \n"
     ]
    }
   ],
   "source": [
    "non_holiday_weekday_morning['Route Name'] = non_holiday_weekday_morning['start_station_name']+'--'+non_holiday_weekday_morning['end_station_name']\n",
    "non_holiday_weekday_afternoon['Route Name'] = non_holiday_weekday_afternoon['start_station_name']+'--'+non_holiday_weekday_afternoon['end_station_name']\n",
    "morning_commutes = pd.DataFrame(non_holiday_weekday_morning.groupby(['Route Name']).size())\n",
    "afternoon_commutes = pd.DataFrame(non_holiday_weekday_afternoon.groupby(['Route Name']).size())\n",
    "morning_commutes = morning_commutes.rename(columns = {0:'Number of Trips'})\n",
    "afternoon_commutes= afternoon_commutes.rename(columns = {0:'Number of Trips'})"
   ]
  },
  {
   "cell_type": "code",
   "execution_count": 41,
   "id": "6827d489",
   "metadata": {},
   "outputs": [
    {
     "data": {
      "text/html": [
       "<style type=\"text/css\">\n",
       "#T_6a6b1_ caption {\n",
       "  color: black;\n",
       "  font-size: 18px;\n",
       "}\n",
       "</style>\n",
       "<table id=\"T_6a6b1_\">\n",
       "  <caption>Most Popular Commuter Trips (Morning)</caption>\n",
       "  <thead>\n",
       "    <tr>\n",
       "      <th class=\"blank level0\" >&nbsp;</th>\n",
       "      <th class=\"col_heading level0 col0\" >Number of Trips</th>\n",
       "    </tr>\n",
       "    <tr>\n",
       "      <th class=\"index_name level0\" >Route Name</th>\n",
       "      <th class=\"blank col0\" >&nbsp;</th>\n",
       "    </tr>\n",
       "  </thead>\n",
       "  <tbody>\n",
       "    <tr>\n",
       "      <th id=\"T_6a6b1_level0_row0\" class=\"row_heading level0 row0\" >Harry Bridges Plaza (Ferry Building)--2nd at Townsend</th>\n",
       "      <td id=\"T_6a6b1_row0_col0\" class=\"data row0 col0\" >4523</td>\n",
       "    </tr>\n",
       "    <tr>\n",
       "      <th id=\"T_6a6b1_level0_row1\" class=\"row_heading level0 row1\" >Steuart at Market--2nd at Townsend</th>\n",
       "      <td id=\"T_6a6b1_row1_col0\" class=\"data row1 col0\" >3720</td>\n",
       "    </tr>\n",
       "    <tr>\n",
       "      <th id=\"T_6a6b1_level0_row2\" class=\"row_heading level0 row2\" >San Francisco Caltrain (Townsend at 4th)--Temporary Transbay Terminal (Howard at Beale)</th>\n",
       "      <td id=\"T_6a6b1_row2_col0\" class=\"data row2 col0\" >3592</td>\n",
       "    </tr>\n",
       "    <tr>\n",
       "      <th id=\"T_6a6b1_level0_row3\" class=\"row_heading level0 row3\" >San Francisco Caltrain (Townsend at 4th)--Embarcadero at Folsom</th>\n",
       "      <td id=\"T_6a6b1_row3_col0\" class=\"data row3 col0\" >3529</td>\n",
       "    </tr>\n",
       "    <tr>\n",
       "      <th id=\"T_6a6b1_level0_row4\" class=\"row_heading level0 row4\" >San Francisco Caltrain 2 (330 Townsend)--Townsend at 7th</th>\n",
       "      <td id=\"T_6a6b1_row4_col0\" class=\"data row4 col0\" >3527</td>\n",
       "    </tr>\n",
       "  </tbody>\n",
       "</table>\n"
      ],
      "text/plain": [
       "<pandas.io.formats.style.Styler at 0x7f0d7c139290>"
      ]
     },
     "execution_count": 41,
     "metadata": {},
     "output_type": "execute_result"
    }
   ],
   "source": [
    "top_morning_commutes = morning_commutes.sort_values(['Number of Trips'],ascending=False).head(5)\n",
    "top_morning_commutes.style.set_caption(\"Most Popular Commuter Trips (Morning)\").set_table_styles([{\n",
    "    'selector': 'caption',\n",
    "    'props': [\n",
    "        ('color', 'black'),\n",
    "        ('font-size', '18px')\n",
    "    ]\n",
    "}])"
   ]
  },
  {
   "cell_type": "code",
   "execution_count": 42,
   "id": "075b9978",
   "metadata": {},
   "outputs": [
    {
     "data": {
      "text/html": [
       "<style type=\"text/css\">\n",
       "#T_5bead_ caption {\n",
       "  color: black;\n",
       "  font-size: 18px;\n",
       "}\n",
       "</style>\n",
       "<table id=\"T_5bead_\">\n",
       "  <caption>Most Popular Commuter Trips (Afternoon)</caption>\n",
       "  <thead>\n",
       "    <tr>\n",
       "      <th class=\"blank level0\" >&nbsp;</th>\n",
       "      <th class=\"col_heading level0 col0\" >Number of Trips</th>\n",
       "    </tr>\n",
       "    <tr>\n",
       "      <th class=\"index_name level0\" >Route Name</th>\n",
       "      <th class=\"blank col0\" >&nbsp;</th>\n",
       "    </tr>\n",
       "  </thead>\n",
       "  <tbody>\n",
       "    <tr>\n",
       "      <th id=\"T_5bead_level0_row0\" class=\"row_heading level0 row0\" >2nd at Townsend--Harry Bridges Plaza (Ferry Building)</th>\n",
       "      <td id=\"T_5bead_row0_col0\" class=\"data row0 col0\" >4862</td>\n",
       "    </tr>\n",
       "    <tr>\n",
       "      <th id=\"T_5bead_level0_row1\" class=\"row_heading level0 row1\" >Embarcadero at Folsom--San Francisco Caltrain (Townsend at 4th)</th>\n",
       "      <td id=\"T_5bead_row1_col0\" class=\"data row1 col0\" >4748</td>\n",
       "    </tr>\n",
       "    <tr>\n",
       "      <th id=\"T_5bead_level0_row2\" class=\"row_heading level0 row2\" >Embarcadero at Sansome--Steuart at Market</th>\n",
       "      <td id=\"T_5bead_row2_col0\" class=\"data row2 col0\" >4112</td>\n",
       "    </tr>\n",
       "    <tr>\n",
       "      <th id=\"T_5bead_level0_row3\" class=\"row_heading level0 row3\" >Temporary Transbay Terminal (Howard at Beale)--San Francisco Caltrain (Townsend at 4th)</th>\n",
       "      <td id=\"T_5bead_row3_col0\" class=\"data row3 col0\" >3995</td>\n",
       "    </tr>\n",
       "    <tr>\n",
       "      <th id=\"T_5bead_level0_row4\" class=\"row_heading level0 row4\" >Steuart at Market--San Francisco Caltrain (Townsend at 4th)</th>\n",
       "      <td id=\"T_5bead_row4_col0\" class=\"data row4 col0\" >3890</td>\n",
       "    </tr>\n",
       "  </tbody>\n",
       "</table>\n"
      ],
      "text/plain": [
       "<pandas.io.formats.style.Styler at 0x7f0d7c13b590>"
      ]
     },
     "execution_count": 42,
     "metadata": {},
     "output_type": "execute_result"
    }
   ],
   "source": [
    "top_afternoon_commutes = afternoon_commutes.sort_values(['Number of Trips'],ascending=False).head(5)\n",
    "top_afternoon_commutes.style.set_caption(\"Most Popular Commuter Trips (Afternoon)\").set_table_styles([{\n",
    "    'selector': 'caption',\n",
    "    'props': [\n",
    "        ('color', 'black'),\n",
    "        ('font-size', '18px')\n",
    "    ]\n",
    "}])"
   ]
  },
  {
   "cell_type": "code",
   "execution_count": 74,
   "id": "4ddafe5f",
   "metadata": {},
   "outputs": [
    {
     "data": {
      "image/png": "[encoded data removed]",
      "text/plain": [
       "<Figure size 432x288 with 1 Axes>"
      ]
     },
     "metadata": {
      "needs_background": "light"
     },
     "output_type": "display_data"
    }
   ],
   "source": [
    "pyplot.hist(trips_subscriber.dow_str, bins = 7, alpha = 0.9, label='Subscriber Trips')\n",
    "pyplot.hist(trips_customer.dow_str, bins = 7, alpha = 0.8, label='Customer Trips')\n",
    "pyplot.legend(loc='center right')\n",
    "pyplot.grid()\n",
    "pyplot.title('Total Trips by Day of Week for Subscribers vs. Customers')\n",
    "pyplot.show()\n"
   ]
  },
  {
   "cell_type": "code",
   "execution_count": null,
   "id": "bca594ee",
   "metadata": {},
   "outputs": [],
   "source": []
  }
 ],
 "metadata": {
  "environment": {
   "name": "tf2-gpu.2-5.m76",
   "type": "gcloud",
   "uri": "gcr.io/deeplearning-platform-release/tf2-gpu.2-5:m76"
  },
  "kernelspec": {
   "display_name": "Python 3",
   "language": "python",
   "name": "python3"
  },
  "language_info": {
   "codemirror_mode": {
    "name": "ipython",
    "version": 3
   },
   "file_extension": ".py",
   "mimetype": "text/x-python",
   "name": "python",
   "nbconvert_exporter": "python",
   "pygments_lexer": "ipython3",
   "version": "3.7.10"
  }
 },
 "nbformat": 4,
 "nbformat_minor": 5
}
