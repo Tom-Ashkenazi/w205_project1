{
 "cells": [
  {
   "cell_type": "code",
   "execution_count": 2,
   "id": "23312680",
   "metadata": {},
   "outputs": [],
   "source": [
    "#import dependencies\n",
    "import pandas as pd\n",
    "import matplotlib\n",
    "from matplotlib import pyplot"
   ]
  },
  {
   "cell_type": "markdown",
   "id": "318d177a",
   "metadata": {},
   "source": [
    "# PROJECT 1 - PART 3"
   ]
  },
  {
   "cell_type": "markdown",
   "id": "d5426d56",
   "metadata": {},
   "source": [
    "## I. RUNNING QUERIES"
   ]
  },
  {
   "cell_type": "code",
   "execution_count": 3,
   "id": "6df3e26c",
   "metadata": {},
   "outputs": [
    {
     "name": "stderr",
     "output_type": "stream",
     "text": [
      "Query complete after 0.02s: 100%|██████████| 1/1 [00:00<00:00, 384.94query/s] \n",
      "Downloading: 100%|██████████| 871994/871994 [00:05<00:00, 163500.14rows/s]\n"
     ]
    }
   ],
   "source": [
    "%%bigquery trips_weekday\n",
    "\n",
    "SELECT *,\n",
    "        EXTRACT(HOUR FROM start_date) AS start_hour\n",
    "    FROM `bigquery-public-data.san_francisco.bikeshare_trips`\n",
    "    WHERE EXTRACT(DAYOFWEEK FROM start_date) != 7\n",
    "        and EXTRACT(DAYOFWEEK FROM start_date) != 1\n",
    "    ORDER BY start_date ASC"
   ]
  },
  {
   "cell_type": "code",
   "execution_count": 4,
   "id": "a2b7c1d3",
   "metadata": {},
   "outputs": [
    {
     "name": "stderr",
     "output_type": "stream",
     "text": [
      "Query complete after 0.00s: 100%|██████████| 1/1 [00:00<00:00, 444.74query/s] \n",
      "Downloading: 100%|██████████| 846839/846839 [00:02<00:00, 370549.40rows/s]\n"
     ]
    }
   ],
   "source": [
    "%%bigquery trips_subscriber\n",
    "\n",
    "SELECT *,\n",
    "        EXTRACT(DAYOFWEEK FROM start_date) AS dow_int,\n",
    "       CASE EXTRACT(DAYOFWEEK FROM start_date)\n",
    "           WHEN 1 THEN \"Sunday\"\n",
    "           WHEN 2 THEN \"Monday\"\n",
    "           WHEN 3 THEN \"Tuesday\"\n",
    "           WHEN 4 THEN \"Wednesday\"\n",
    "           WHEN 5 THEN \"Thursday\"\n",
    "           WHEN 6 THEN \"Friday\"\n",
    "           WHEN 7 THEN \"Saturday\"\n",
    "           END AS dow_str,\n",
    "       CASE \n",
    "           WHEN EXTRACT(DAYOFWEEK FROM start_date) IN (1, 7) THEN \"Weekend\"\n",
    "           ELSE \"Weekday\"\n",
    "           END AS dow_weekday,\n",
    "       EXTRACT(HOUR FROM start_date) AS start_hour\n",
    "    FROM `bigquery-public-data.san_francisco.bikeshare_trips`\n",
    "    WHERE subscriber_type ='Subscriber' \n",
    "    ORDER BY start_date ASC"
   ]
  },
  {
   "cell_type": "code",
   "execution_count": 5,
   "id": "93b3eafd",
   "metadata": {},
   "outputs": [
    {
     "name": "stderr",
     "output_type": "stream",
     "text": [
      "Query complete after 0.00s: 100%|██████████| 1/1 [00:00<00:00, 428.47query/s] \n",
      "Downloading: 100%|██████████| 136809/136809 [00:01<00:00, 100312.91rows/s]\n"
     ]
    }
   ],
   "source": [
    "%%bigquery trips_customer\n",
    "\n",
    "SELECT *,\n",
    "        EXTRACT(DAYOFWEEK FROM start_date) AS dow_int,\n",
    "       CASE EXTRACT(DAYOFWEEK FROM start_date)\n",
    "           WHEN 1 THEN \"Sunday\"\n",
    "           WHEN 2 THEN \"Monday\"\n",
    "           WHEN 3 THEN \"Tuesday\"\n",
    "           WHEN 4 THEN \"Wednesday\"\n",
    "           WHEN 5 THEN \"Thursday\"\n",
    "           WHEN 6 THEN \"Friday\"\n",
    "           WHEN 7 THEN \"Saturday\"\n",
    "           END AS dow_str,\n",
    "       CASE \n",
    "           WHEN EXTRACT(DAYOFWEEK FROM start_date) IN (1, 7) THEN \"Weekend\"\n",
    "           ELSE \"Weekday\"\n",
    "           END AS dow_weekday,\n",
    "       EXTRACT(HOUR FROM start_date) AS start_hour\n",
    "    FROM `bigquery-public-data.san_francisco.bikeshare_trips`\n",
    "    WHERE subscriber_type ='Customer' \n",
    "    ORDER BY start_date ASC"
   ]
  },
  {
   "cell_type": "code",
   "execution_count": 6,
   "id": "2828c58f",
   "metadata": {},
   "outputs": [
    {
     "name": "stderr",
     "output_type": "stream",
     "text": [
      "Query complete after 0.00s: 100%|██████████| 1/1 [00:00<00:00, 531.19query/s] \n",
      "Downloading: 100%|██████████| 290784/290784 [00:01<00:00, 230139.46rows/s]\n"
     ]
    }
   ],
   "source": [
    "%%bigquery trips_weekday_morning\n",
    "\n",
    "SELECT *\n",
    "    FROM `bigquery-public-data.san_francisco.bikeshare_trips`\n",
    "    WHERE CAST(start_date as time) >= '6:30:00' \n",
    "        and CAST(end_date as time) <= '10:00:00'\n",
    "        and EXTRACT(DAYOFWEEK FROM start_date) != 7\n",
    "        and EXTRACT(DAYOFWEEK FROM start_date) != 1\n",
    "    ORDER BY start_date ASC"
   ]
  },
  {
   "cell_type": "code",
   "execution_count": 7,
   "id": "cbf75ad3",
   "metadata": {},
   "outputs": [
    {
     "name": "stderr",
     "output_type": "stream",
     "text": [
      "Query complete after 0.00s: 100%|██████████| 1/1 [00:00<00:00, 479.79query/s] \n",
      "Downloading: 100%|██████████| 305121/305121 [00:01<00:00, 201309.70rows/s]\n"
     ]
    }
   ],
   "source": [
    "%%bigquery trips_weekday_afternoon\n",
    "\n",
    "SELECT *\n",
    "    FROM `bigquery-public-data.san_francisco.bikeshare_trips`\n",
    "    WHERE CAST(start_date as time) >= '15:00:00' \n",
    "    and CAST(end_date as time) <= '19:00:00'\n",
    "        and EXTRACT(DAYOFWEEK FROM start_date) != 7\n",
    "        and EXTRACT(DAYOFWEEK FROM start_date) != 1\n",
    "    ORDER BY start_date ASC"
   ]
  },
  {
   "cell_type": "markdown",
   "id": "1be374b4",
   "metadata": {},
   "source": [
    "## DEFINING COMMUTE TIMES"
   ]
  },
  {
   "cell_type": "code",
   "execution_count": 8,
   "id": "38c13b66",
   "metadata": {},
   "outputs": [],
   "source": [
    "from pandas.tseries.holiday import USFederalHolidayCalendar\n",
    "cal = USFederalHolidayCalendar()\n",
    "holidays = cal.holidays(start='2013-01-01', end='2016-12-31')"
   ]
  },
  {
   "cell_type": "code",
   "execution_count": 9,
   "id": "15513c7c",
   "metadata": {},
   "outputs": [
    {
     "name": "stderr",
     "output_type": "stream",
     "text": [
      "/opt/conda/lib/python3.7/site-packages/pandas/core/algorithms.py:523: FutureWarning: Comparison of Timestamp with datetime.date is deprecated in order to match the standard library behavior.  In a future version these will be considered non-comparable.Use 'ts == pd.Timestamp(date)' or 'ts.date() == date' instead.\n",
      "  return f(comps, values)\n"
     ]
    }
   ],
   "source": [
    "non_holiday_weekdays = trips_weekday[trips_weekday['start_date'].dt.date.isin(holidays) == False]\n",
    "non_holiday_weekday_afternoon = trips_weekday_afternoon[trips_weekday_afternoon['start_date'].dt.date.isin(holidays) == False]\n",
    "non_holiday_weekday_morning = trips_weekday_morning[trips_weekday_morning['start_date'].dt.date.isin(holidays) == False]\n"
   ]
  },
  {
   "cell_type": "code",
   "execution_count": 10,
   "id": "9bdb3c69",
   "metadata": {},
   "outputs": [
    {
     "data": {
      "image/png": "[encoded data removed]",
      "text/plain": [
       "<Figure size 720x288 with 1 Axes>"
      ]
     },
     "metadata": {
      "needs_background": "light"
     },
     "output_type": "display_data"
    }
   ],
   "source": [
    "trips_by_hr = pd.DataFrame(non_holiday_weekdays.groupby(['start_hour']).size())\n",
    "trips_by_hr = trips_by_hr.rename(columns = {0:'Number_of_Trips'})\n",
    "line_plot = trips_by_hr.plot.line(y = 'Number_of_Trips', figsize = (10,4), grid = True, title='Total Trips on Non-Holiday Weekdays' , legend = False, xticks = [0,1,2,3,4,5,6,7,8,9,10,11,12,13,14,15,16,17,18,19,20,21,22,23])\n"
   ]
  },
  {
   "cell_type": "markdown",
   "id": "c9faf5c3",
   "metadata": {},
   "source": [
    "**Based on this analysis we know to define \"commute times\" as 6:30-10:00 and 15:00-19:00 on non-holiday weekdays, since there were more than 4,000 trips an hour during these intervals.**"
   ]
  },
  {
   "cell_type": "markdown",
   "id": "9051023b",
   "metadata": {},
   "source": [
    "## MOST POPULAR COMMUTER TRIPS"
   ]
  },
  {
   "cell_type": "code",
   "execution_count": 11,
   "id": "115a663c",
   "metadata": {},
   "outputs": [
    {
     "name": "stderr",
     "output_type": "stream",
     "text": [
      "/opt/conda/lib/python3.7/site-packages/ipykernel_launcher.py:1: SettingWithCopyWarning: \n",
      "A value is trying to be set on a copy of a slice from a DataFrame.\n",
      "Try using .loc[row_indexer,col_indexer] = value instead\n",
      "\n",
      "See the caveats in the documentation: https://pandas.pydata.org/pandas-docs/stable/user_guide/indexing.html#returning-a-view-versus-a-copy\n",
      "  \"\"\"Entry point for launching an IPython kernel.\n",
      "/opt/conda/lib/python3.7/site-packages/ipykernel_launcher.py:2: SettingWithCopyWarning: \n",
      "A value is trying to be set on a copy of a slice from a DataFrame.\n",
      "Try using .loc[row_indexer,col_indexer] = value instead\n",
      "\n",
      "See the caveats in the documentation: https://pandas.pydata.org/pandas-docs/stable/user_guide/indexing.html#returning-a-view-versus-a-copy\n",
      "  \n"
     ]
    }
   ],
   "source": [
    "non_holiday_weekday_morning['Route Name'] = non_holiday_weekday_morning['start_station_name']+'--'+non_holiday_weekday_morning['end_station_name']\n",
    "non_holiday_weekday_afternoon['Route Name'] = non_holiday_weekday_afternoon['start_station_name']+'--'+non_holiday_weekday_afternoon['end_station_name']\n",
    "morning_commutes = pd.DataFrame(non_holiday_weekday_morning.groupby(['Route Name']).size())\n",
    "afternoon_commutes = pd.DataFrame(non_holiday_weekday_afternoon.groupby(['Route Name']).size())\n",
    "morning_commutes = morning_commutes.rename(columns = {0:'Number of Trips'})\n",
    "afternoon_commutes= afternoon_commutes.rename(columns = {0:'Number of Trips'})"
   ]
  },
  {
   "cell_type": "code",
   "execution_count": 12,
   "id": "2b8b1c0e",
   "metadata": {},
   "outputs": [
    {
     "data": {
      "text/html": [
       "<style type=\"text/css\">\n",
       "#T_b277b_ caption {\n",
       "  color: black;\n",
       "  font-size: 20px;\n",
       "}\n",
       "</style>\n",
       "<table id=\"T_b277b_\">\n",
       "  <caption>Most Popular Commuter Trips (Morning)</caption>\n",
       "  <thead>\n",
       "    <tr>\n",
       "      <th class=\"blank level0\" >&nbsp;</th>\n",
       "      <th class=\"col_heading level0 col0\" >Number of Trips</th>\n",
       "    </tr>\n",
       "    <tr>\n",
       "      <th class=\"index_name level0\" >Route Name</th>\n",
       "      <th class=\"blank col0\" >&nbsp;</th>\n",
       "    </tr>\n",
       "  </thead>\n",
       "  <tbody>\n",
       "    <tr>\n",
       "      <th id=\"T_b277b_level0_row0\" class=\"row_heading level0 row0\" >Harry Bridges Plaza (Ferry Building)--2nd at Townsend</th>\n",
       "      <td id=\"T_b277b_row0_col0\" class=\"data row0 col0\" >4515</td>\n",
       "    </tr>\n",
       "    <tr>\n",
       "      <th id=\"T_b277b_level0_row1\" class=\"row_heading level0 row1\" >Steuart at Market--2nd at Townsend</th>\n",
       "      <td id=\"T_b277b_row1_col0\" class=\"data row1 col0\" >3715</td>\n",
       "    </tr>\n",
       "    <tr>\n",
       "      <th id=\"T_b277b_level0_row2\" class=\"row_heading level0 row2\" >San Francisco Caltrain (Townsend at 4th)--Temporary Transbay Terminal (Howard at Beale)</th>\n",
       "      <td id=\"T_b277b_row2_col0\" class=\"data row2 col0\" >3586</td>\n",
       "    </tr>\n",
       "    <tr>\n",
       "      <th id=\"T_b277b_level0_row3\" class=\"row_heading level0 row3\" >San Francisco Caltrain (Townsend at 4th)--Embarcadero at Folsom</th>\n",
       "      <td id=\"T_b277b_row3_col0\" class=\"data row3 col0\" >3521</td>\n",
       "    </tr>\n",
       "    <tr>\n",
       "      <th id=\"T_b277b_level0_row4\" class=\"row_heading level0 row4\" >San Francisco Caltrain 2 (330 Townsend)--Townsend at 7th</th>\n",
       "      <td id=\"T_b277b_row4_col0\" class=\"data row4 col0\" >3521</td>\n",
       "    </tr>\n",
       "  </tbody>\n",
       "</table>\n"
      ],
      "text/plain": [
       "<pandas.io.formats.style.Styler at 0x7fe02226ae10>"
      ]
     },
     "execution_count": 12,
     "metadata": {},
     "output_type": "execute_result"
    }
   ],
   "source": [
    "top_morning_commutes = morning_commutes.sort_values(['Number of Trips'],ascending=False).head(5)\n",
    "top_morning_commutes.style.set_caption(\"Most Popular Commuter Trips (Morning)\").set_table_styles([{\n",
    "    'selector': 'caption',\n",
    "    'props': [\n",
    "        ('color', 'black'),\n",
    "        ('font-size', '20px')\n",
    "    ]\n",
    "}])"
   ]
  },
  {
   "cell_type": "code",
   "execution_count": 13,
   "id": "7aabf16f",
   "metadata": {},
   "outputs": [
    {
     "data": {
      "text/html": [
       "<style type=\"text/css\">\n",
       "#T_85481_ caption {\n",
       "  color: black;\n",
       "  font-size: 20px;\n",
       "}\n",
       "</style>\n",
       "<table id=\"T_85481_\">\n",
       "  <caption>Most Popular Commuter Trips (Afternoon)</caption>\n",
       "  <thead>\n",
       "    <tr>\n",
       "      <th class=\"blank level0\" >&nbsp;</th>\n",
       "      <th class=\"col_heading level0 col0\" >Number of Trips</th>\n",
       "    </tr>\n",
       "    <tr>\n",
       "      <th class=\"index_name level0\" >Route Name</th>\n",
       "      <th class=\"blank col0\" >&nbsp;</th>\n",
       "    </tr>\n",
       "  </thead>\n",
       "  <tbody>\n",
       "    <tr>\n",
       "      <th id=\"T_85481_level0_row0\" class=\"row_heading level0 row0\" >2nd at Townsend--Harry Bridges Plaza (Ferry Building)</th>\n",
       "      <td id=\"T_85481_row0_col0\" class=\"data row0 col0\" >4856</td>\n",
       "    </tr>\n",
       "    <tr>\n",
       "      <th id=\"T_85481_level0_row1\" class=\"row_heading level0 row1\" >Embarcadero at Folsom--San Francisco Caltrain (Townsend at 4th)</th>\n",
       "      <td id=\"T_85481_row1_col0\" class=\"data row1 col0\" >4737</td>\n",
       "    </tr>\n",
       "    <tr>\n",
       "      <th id=\"T_85481_level0_row2\" class=\"row_heading level0 row2\" >Embarcadero at Sansome--Steuart at Market</th>\n",
       "      <td id=\"T_85481_row2_col0\" class=\"data row2 col0\" >4106</td>\n",
       "    </tr>\n",
       "    <tr>\n",
       "      <th id=\"T_85481_level0_row3\" class=\"row_heading level0 row3\" >Temporary Transbay Terminal (Howard at Beale)--San Francisco Caltrain (Townsend at 4th)</th>\n",
       "      <td id=\"T_85481_row3_col0\" class=\"data row3 col0\" >3990</td>\n",
       "    </tr>\n",
       "    <tr>\n",
       "      <th id=\"T_85481_level0_row4\" class=\"row_heading level0 row4\" >Steuart at Market--San Francisco Caltrain (Townsend at 4th)</th>\n",
       "      <td id=\"T_85481_row4_col0\" class=\"data row4 col0\" >3886</td>\n",
       "    </tr>\n",
       "  </tbody>\n",
       "</table>\n"
      ],
      "text/plain": [
       "<pandas.io.formats.style.Styler at 0x7fdff1cc9950>"
      ]
     },
     "execution_count": 13,
     "metadata": {},
     "output_type": "execute_result"
    }
   ],
   "source": [
    "top_afternoon_commutes = afternoon_commutes.sort_values(['Number of Trips'],ascending=False).head(5)\n",
    "top_afternoon_commutes.style.set_caption(\"Most Popular Commuter Trips (Afternoon)\").set_table_styles([{\n",
    "    'selector': 'caption',\n",
    "    'props': [\n",
    "        ('color', 'black'),\n",
    "        ('font-size', '20px')\n",
    "    ]\n",
    "}])"
   ]
  },
  {
   "cell_type": "markdown",
   "id": "c452678d",
   "metadata": {},
   "source": [
    "## ANALYSIS OF SUBSCRIBERS VS. CUSTOMERS"
   ]
  },
  {
   "cell_type": "code",
   "execution_count": 14,
   "id": "2a51f826",
   "metadata": {},
   "outputs": [
    {
     "ename": "NameError",
     "evalue": "name 'font' is not defined",
     "output_type": "error",
     "traceback": [
      "\u001b[0;31m---------------------------------------------------------------------------\u001b[0m",
      "\u001b[0;31mNameError\u001b[0m                                 Traceback (most recent call last)",
      "\u001b[0;32m<ipython-input-14-7f641ab6dcff>\u001b[0m in \u001b[0;36m<module>\u001b[0;34m\u001b[0m\n\u001b[1;32m      3\u001b[0m \u001b[0mpyplot\u001b[0m\u001b[0;34m.\u001b[0m\u001b[0mlegend\u001b[0m\u001b[0;34m(\u001b[0m\u001b[0mloc\u001b[0m\u001b[0;34m=\u001b[0m\u001b[0;34m'center right'\u001b[0m\u001b[0;34m)\u001b[0m\u001b[0;34m\u001b[0m\u001b[0;34m\u001b[0m\u001b[0m\n\u001b[1;32m      4\u001b[0m \u001b[0mpyplot\u001b[0m\u001b[0;34m.\u001b[0m\u001b[0mgrid\u001b[0m\u001b[0;34m(\u001b[0m\u001b[0;34m)\u001b[0m\u001b[0;34m\u001b[0m\u001b[0;34m\u001b[0m\u001b[0m\n\u001b[0;32m----> 5\u001b[0;31m \u001b[0mpyplot\u001b[0m\u001b[0;34m.\u001b[0m\u001b[0mtitle\u001b[0m\u001b[0;34m(\u001b[0m\u001b[0;34m'Total Trips by Day of Week for Subscribers vs. Customers'\u001b[0m\u001b[0;34m,\u001b[0m \u001b[0mfont\u001b[0m\u001b[0;34m-\u001b[0m\u001b[0msize\u001b[0m\u001b[0;34m)\u001b[0m\u001b[0;34m\u001b[0m\u001b[0;34m\u001b[0m\u001b[0m\n\u001b[0m\u001b[1;32m      6\u001b[0m \u001b[0mpyplot\u001b[0m\u001b[0;34m.\u001b[0m\u001b[0mshow\u001b[0m\u001b[0;34m(\u001b[0m\u001b[0;34m)\u001b[0m\u001b[0;34m\u001b[0m\u001b[0;34m\u001b[0m\u001b[0m\n",
      "\u001b[0;31mNameError\u001b[0m: name 'font' is not defined"
     ]
    },
    {
     "data": {
      "image/png": "[encoded data removed]",
      "text/plain": [
       "<Figure size 432x288 with 1 Axes>"
      ]
     },
     "metadata": {
      "needs_background": "light"
     },
     "output_type": "display_data"
    }
   ],
   "source": [
    "pyplot.hist(trips_subscriber.dow_str, bins = 7, alpha = 0.9, label='Subscriber Trips')\n",
    "pyplot.hist(trips_customer.dow_str, bins = 7, alpha = 0.8, label='Customer Trips')\n",
    "pyplot.legend(loc='center right')\n",
    "pyplot.grid()\n",
    "pyplot.title('Total Trips by Day of Week for Subscribers vs. Customers', font-size)\n",
    "pyplot.show()\n"
   ]
  },
  {
   "cell_type": "markdown",
   "id": "aad115ea",
   "metadata": {},
   "source": [
    "**Subscribers are much more active on Weekdays than they are on Weekends. The opposite is true for Customers, whose activity peaks on Saturday and Sunday**"
   ]
  },
  {
   "cell_type": "code",
   "execution_count": 15,
   "id": "0b054546",
   "metadata": {},
   "outputs": [],
   "source": [
    "trips_subscriber['time_minutes'] = trips_subscriber['duration_sec']/60\n",
    "trips_customer['time_minutes'] = trips_customer['duration_sec']/60"
   ]
  },
  {
   "cell_type": "code",
   "execution_count": 16,
   "id": "189460df",
   "metadata": {},
   "outputs": [
    {
     "name": "stderr",
     "output_type": "stream",
     "text": [
      "/opt/conda/lib/python3.7/site-packages/ipykernel_launcher.py:1: FutureWarning: Indexing with multiple keys (implicitly converted to a tuple of keys) will be deprecated, use a list instead.\n",
      "  \"\"\"Entry point for launching an IPython kernel.\n"
     ]
    },
    {
     "data": {
      "text/html": [
       "<style type=\"text/css\">\n",
       "#T_b56c3_ caption {\n",
       "  text-align: left;\n",
       "  color: black;\n",
       "  font-size: 14px;\n",
       "}\n",
       "</style>\n",
       "<table id=\"T_b56c3_\">\n",
       "  <caption>Median Duration and Start Hour of a Subscriber's Trip</caption>\n",
       "  <thead>\n",
       "    <tr>\n",
       "      <th class=\"blank level0\" >&nbsp;</th>\n",
       "      <th class=\"col_heading level0 col0\" >time_minutes</th>\n",
       "      <th class=\"col_heading level0 col1\" >start_hour</th>\n",
       "    </tr>\n",
       "    <tr>\n",
       "      <th class=\"index_name level0\" >dow_weekday</th>\n",
       "      <th class=\"blank col0\" >&nbsp;</th>\n",
       "      <th class=\"blank col1\" >&nbsp;</th>\n",
       "    </tr>\n",
       "  </thead>\n",
       "  <tbody>\n",
       "    <tr>\n",
       "      <th id=\"T_b56c3_level0_row0\" class=\"row_heading level0 row0\" >Weekday</th>\n",
       "      <td id=\"T_b56c3_row0_col0\" class=\"data row0 col0\" >8.016667</td>\n",
       "      <td id=\"T_b56c3_row0_col1\" class=\"data row0 col1\" >13.000000</td>\n",
       "    </tr>\n",
       "    <tr>\n",
       "      <th id=\"T_b56c3_level0_row1\" class=\"row_heading level0 row1\" >Weekend</th>\n",
       "      <td id=\"T_b56c3_row1_col0\" class=\"data row1 col0\" >8.150000</td>\n",
       "      <td id=\"T_b56c3_row1_col1\" class=\"data row1 col1\" >14.000000</td>\n",
       "    </tr>\n",
       "  </tbody>\n",
       "</table>\n"
      ],
      "text/plain": [
       "<pandas.io.formats.style.Styler at 0x7fe02232f450>"
      ]
     },
     "execution_count": 16,
     "metadata": {},
     "output_type": "execute_result"
    }
   ],
   "source": [
    "subscriber_trips_stats = trips_subscriber.groupby('dow_weekday')['time_minutes', 'start_hour'].median()\n",
    "subscriber_trips_stats.style.set_caption(\"Median Duration and Start Hour of a Subscriber's Trip\").set_table_styles([{\n",
    "    'selector': 'caption',\n",
    "    'props': [(\"text-align\", \"left\"),\n",
    "        ('color', 'black'),\n",
    "        ('font-size', '14px')\n",
    "    ]\n",
    "}])"
   ]
  },
  {
   "cell_type": "code",
   "execution_count": 17,
   "id": "5e3f4f79",
   "metadata": {},
   "outputs": [
    {
     "name": "stderr",
     "output_type": "stream",
     "text": [
      "/opt/conda/lib/python3.7/site-packages/ipykernel_launcher.py:1: FutureWarning: Indexing with multiple keys (implicitly converted to a tuple of keys) will be deprecated, use a list instead.\n",
      "  \"\"\"Entry point for launching an IPython kernel.\n"
     ]
    },
    {
     "data": {
      "text/html": [
       "<style type=\"text/css\">\n",
       "#T_19e74_ caption {\n",
       "  text-align: left;\n",
       "  color: black;\n",
       "  font-size: 14px;\n",
       "}\n",
       "</style>\n",
       "<table id=\"T_19e74_\">\n",
       "  <caption>Median Duration and Start Hour of a Customer's Trip</caption>\n",
       "  <thead>\n",
       "    <tr>\n",
       "      <th class=\"blank level0\" >&nbsp;</th>\n",
       "      <th class=\"col_heading level0 col0\" >time_minutes</th>\n",
       "      <th class=\"col_heading level0 col1\" >start_hour</th>\n",
       "    </tr>\n",
       "    <tr>\n",
       "      <th class=\"index_name level0\" >dow_weekday</th>\n",
       "      <th class=\"blank col0\" >&nbsp;</th>\n",
       "      <th class=\"blank col1\" >&nbsp;</th>\n",
       "    </tr>\n",
       "  </thead>\n",
       "  <tbody>\n",
       "    <tr>\n",
       "      <th id=\"T_19e74_level0_row0\" class=\"row_heading level0 row0\" >Weekday</th>\n",
       "      <td id=\"T_19e74_row0_col0\" class=\"data row0 col0\" >16.916667</td>\n",
       "      <td id=\"T_19e74_row0_col1\" class=\"data row0 col1\" >14.000000</td>\n",
       "    </tr>\n",
       "    <tr>\n",
       "      <th id=\"T_19e74_level0_row1\" class=\"row_heading level0 row1\" >Weekend</th>\n",
       "      <td id=\"T_19e74_row1_col0\" class=\"data row1 col0\" >21.950000</td>\n",
       "      <td id=\"T_19e74_row1_col1\" class=\"data row1 col1\" >14.000000</td>\n",
       "    </tr>\n",
       "  </tbody>\n",
       "</table>\n"
      ],
      "text/plain": [
       "<pandas.io.formats.style.Styler at 0x7fe020e99c50>"
      ]
     },
     "execution_count": 17,
     "metadata": {},
     "output_type": "execute_result"
    }
   ],
   "source": [
    "customer_trip_stats = trips_customer.groupby('dow_weekday')['time_minutes', 'start_hour'].median()\n",
    "customer_trip_stats.style.set_caption(\"Median Duration and Start Hour of a Customer's Trip\").set_table_styles([{\n",
    "    'selector': 'caption',\n",
    "    'props': [(\"text-align\", \"left\"),\n",
    "        ('color', 'black'),\n",
    "        ('font-size', '14px')\n",
    "    ]\n",
    "}])\n"
   ]
  },
  {
   "cell_type": "markdown",
   "id": "0a45d4d5",
   "metadata": {},
   "source": [
    "**On average both subscriber and customer users take longer trips on Weekends, though this phenomenon is much more significant among customers. The average trip start times are consistent across both groups on both weekdays and weekends.**"
   ]
  },
  {
   "cell_type": "code",
   "execution_count": 18,
   "id": "ea2b83d8",
   "metadata": {},
   "outputs": [
    {
     "data": {
      "image/png": "[encoded data removed]",
      "text/plain": [
       "<Figure size 720x288 with 1 Axes>"
      ]
     },
     "metadata": {
      "needs_background": "light"
     },
     "output_type": "display_data"
    }
   ],
   "source": [
    "trips_by_hr_customer = pd.DataFrame(trips_customer[trips_customer['dow_weekday'] == 'Weekday'].groupby(['start_hour']).size())\n",
    "trips_by_hr_customer = trips_by_hr_customer.rename(columns = {0:'Number_of_Trips'})\n",
    "line_plot = trips_by_hr_customer.plot.line(y = 'Number_of_Trips', figsize = (10,4), grid = True, title='Total Trips by Customers on Weekdays' , legend = False, xticks = [0,1,2,3,4,5,6,7,8,9,10,11,12,13,14,15,16,17,18,19,20,21,22,23])\n"
   ]
  },
  {
   "cell_type": "markdown",
   "id": "709aeb59",
   "metadata": {},
   "source": [
    "**Unlike subscribers, whose weekday trip activity peaks during morning and afternoon commute hours; weekday customer activity is much more evenly spread out. Customer activity picks up in the morning, remains high between 11:00 and 18:00 and then drops in the evening. One can infer that while the majority of subscribers are frequent commuters, with their own daily routes, customers are a much more heterogenous group that doesn't use the bike service as regularly.**"
   ]
  },
  {
   "cell_type": "markdown",
   "id": "1213e081",
   "metadata": {},
   "source": [
    "## RECOMMENDATIONS FOR OFFERS"
   ]
  },
  {
   "cell_type": "markdown",
   "id": "c150cf4d",
   "metadata": {},
   "source": [
    "- **Based on our findings, there is a ton of untapped potential for increasing the number of subscriber trips on weekends. The number of subscriber trips on a Saturday or Sunday is around only 18.5% of the number of trips on a weekday.**\n",
    "- **The median duration of a weekend trip is significantly longer than that of a weekday trip, so increasing the number of weekend trips will have a greater impact on revenue**\n",
    "- **One offer I would recommend is some sort of promotional discount on weekend trips for subscribers, this approach would serve a dual purpose:**\n",
    "    - **it would incentivize the thousands of subscribers who use the service every weekday to commute, to take advantage of the discount and begin the habit of biking for pleasure on weekends.**\n",
    "    - **it might attract ordinary customers (who tend to be most active on weekends) to enroll in the subscription program for the weekend benefits.**"
   ]
  },
  {
   "cell_type": "code",
   "execution_count": null,
   "id": "11efd93a",
   "metadata": {},
   "outputs": [],
   "source": []
  }
 ],
 "metadata": {
  "environment": {
   "name": "tf2-gpu.2-5.m76",
   "type": "gcloud",
   "uri": "gcr.io/deeplearning-platform-release/tf2-gpu.2-5:m76"
  },
  "kernelspec": {
   "display_name": "Python 3",
   "language": "python",
   "name": "python3"
  },
  "language_info": {
   "codemirror_mode": {
    "name": "ipython",
    "version": 3
   },
   "file_extension": ".py",
   "mimetype": "text/x-python",
   "name": "python",
   "nbconvert_exporter": "python",
   "pygments_lexer": "ipython3",
   "version": "3.7.10"
  }
 },
 "nbformat": 4,
 "nbformat_minor": 5
}
